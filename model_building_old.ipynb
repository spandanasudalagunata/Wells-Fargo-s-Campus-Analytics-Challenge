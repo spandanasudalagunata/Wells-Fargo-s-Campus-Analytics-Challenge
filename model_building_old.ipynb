{
 "cells": [
  {
   "cell_type": "code",
   "execution_count": 27,
   "metadata": {},
   "outputs": [],
   "source": [
    "import pandas as pd\n",
    "import pulp as lp\n",
    "import numpy as np\n",
    "from operator import iadd\n",
    "from functools import reduce\n",
    "from typing import Sequence, Any, DefaultDict, List"
   ]
  },
  {
   "cell_type": "code",
   "execution_count": 28,
   "metadata": {},
   "outputs": [],
   "source": [
    "def create_prob(prob_name: str, sense: int) -> lp.LpProblem:\n",
    "    return lp.LpProblem(prob_name, sense)\n",
    "\n",
    "\n",
    "def add_obj_fn(lp_prob: lp.LpProblem, dvar: lp.LpAffineExpression) -> lp.LpProblem:\n",
    "    return iadd(lp_prob, dvar)\n",
    "\n",
    "\n",
    "def add_constraint(lp_prob: lp.LpProblem, constrs: Sequence[lp.LpConstraint]) -> lp.LpProblem:\n",
    "   return reduce(iadd, constrs, lp_prob)\n",
    "\n",
    "\n",
    "def head(x: Sequence) -> Any:\n",
    "    return x[0]\n",
    "\n",
    "def to_str(indnum, activity) -> str:\n",
    "    return f'{indnum} - {activity}'"
   ]
  },
  {
   "cell_type": "code",
   "execution_count": 29,
   "metadata": {},
   "outputs": [],
   "source": [
    "df = pd.read_csv('data/dataset.csv')\n",
    "ql_df = pd.read_csv('data/indv_tql.csv')\n",
    "\n",
    "df.drop('Unnamed: 0', axis=1, inplace=True) # Drop Unnamed column\n",
    "ql_df.drop('Unnamed: 0', axis=1, inplace=True) # Drop Unnamed column"
   ]
  },
  {
   "cell_type": "code",
   "execution_count": 30,
   "metadata": {},
   "outputs": [],
   "source": [
    "#df.head()\n",
    "#ql_df.head()"
   ]
  },
  {
   "cell_type": "code",
   "execution_count": 31,
   "metadata": {},
   "outputs": [],
   "source": [
    "indv1_df = df.drop('Group', axis=1).loc[df['Indnum'] == 1]\n",
    "indv1_tql = ql_df.loc[ql_df['Indnum'] == 1]"
   ]
  },
  {
   "cell_type": "code",
   "execution_count": 32,
   "metadata": {},
   "outputs": [],
   "source": [
    "#indv1_df.head()\n",
    "#indv1_tql"
   ]
  },
  {
   "cell_type": "code",
   "execution_count": 33,
   "metadata": {},
   "outputs": [],
   "source": [
    "gp_model = create_prob('Wells Fargo Challenge', lp.LpMinimize)"
   ]
  },
  {
   "cell_type": "markdown",
   "metadata": {},
   "source": [
    "## Decision Variables"
   ]
  },
  {
   "cell_type": "code",
   "execution_count": 34,
   "metadata": {},
   "outputs": [],
   "source": [
    "indv_num = indv1_df.Indnum.unique()\n",
    "actv_names = indv1_df.Activity.unique()\n",
    "\n",
    "sources = np.array([\n",
    "  \"solar_powered_water_heater\",\n",
    "  \"gas_water_heater\",\n",
    "  \"electric_water_heater_peak_hour\",\n",
    "  \"electric_water_heater_off_peak\",\n",
    "  \"gas\",\n",
    "  \"natural_gas\",\n",
    "  \"hybrid\",\n",
    "  \"electric_peak_hours\",\n",
    "  \"electric_off_peak_hours\",\n",
    "  \"jetfuel\"\n",
    "])"
   ]
  },
  {
   "cell_type": "code",
   "execution_count": 35,
   "metadata": {},
   "outputs": [],
   "source": [
    "actv_indexes = [\n",
    "    (indv, activity)\n",
    "    for indv in indv_num\n",
    "    for activity in actv_names\n",
    "]\n",
    "\n",
    "TrCF_ij = lp.LpVariable.dicts('TrCF_ij', actv_indexes, lowBound=0)"
   ]
  },
  {
   "cell_type": "code",
   "execution_count": 36,
   "metadata": {},
   "outputs": [],
   "source": [
    "actv_indexes = [\n",
    "    (f'{indv} - {activity}', source)\n",
    "    for indv in indv_num\n",
    "    for activity in actv_names\n",
    "    for source in sources\n",
    "]\n",
    "\n",
    "CF_ij = lp.LpVariable.dicts('CF_ij', actv_indexes, lowBound=0)"
   ]
  },
  {
   "cell_type": "code",
   "execution_count": 37,
   "metadata": {},
   "outputs": [],
   "source": [
    "consumption_indexes = [\n",
    "    (indv, activity)\n",
    "    for indv in indv_num\n",
    "    for activity in actv_names\n",
    "]\n",
    "\n",
    "C_ij = lp.LpVariable.dicts('C_ij', consumption_indexes, lowBound=0)"
   ]
  },
  {
   "cell_type": "code",
   "execution_count": 38,
   "metadata": {},
   "outputs": [],
   "source": [
    "qual_life_indexes = [\n",
    "    (indv, activity)\n",
    "    for indv in indv_num\n",
    "    for activity in actv_names\n",
    "]\n",
    "\n",
    "TrQL_ij = lp.LpVariable.dicts('TrQL_ij', qual_life_indexes, lowBound=0)"
   ]
  },
  {
   "cell_type": "markdown",
   "metadata": {},
   "source": [
    "## Objective Function"
   ]
  },
  {
   "cell_type": "code",
   "execution_count": 39,
   "metadata": {},
   "outputs": [
    {
     "data": {
      "text/plain": [
       "1*TrCF_ij_(1,_'Household_heating_<_70F') + 1*TrCF_ij_(1,_'Household_heating_=__70F') + 1*TrCF_ij_(1,_'Small_kitchen_appliance_in_the_home') + 1*TrCF_ij_(1,_'TV_computer_use') + 1*TrCF_ij_(1,_'Use_of_air_conditioner') + 1*TrCF_ij_(1,_'Use_of_heat_pump') + 1*TrCF_ij_(1,_'air_travel___large_plane') + 1*TrCF_ij_(1,_'air_travel___small__plane_(<50_seats)') + 1*TrCF_ij_(1,_'bags_of_compost_deposited_(negative_CF)') + 1*TrCF_ij_(1,_'bags_of_garbage_disposed') + 1*TrCF_ij_(1,_'bags_of_recycling_deposited_(negative_CF)') + 1*TrCF_ij_(1,_'bath') + 1*TrCF_ij_(1,_'car_trips___2__people_with_multiple_end_points') + 1*TrCF_ij_(1,_'car_trips___driver_and_self') + 1*TrCF_ij_(1,_'car_trips__self_only') + 1*TrCF_ij_(1,_'hazardous_or_electric_items_disposed') + 1*TrCF_ij_(1,_'large_items_disposed') + 1*TrCF_ij_(1,_'shower___long_(__3_min)') + 1*TrCF_ij_(1,_'shower___short') + 1*TrCF_ij_(1,_'trips_using_public_ground_transportation') + 1*TrCF_ij_(1,_'use_of__oven') + 1*TrCF_ij_(1,_'use_of_clothes_dryer') + 1*TrCF_ij_(1,_'use_of_clothes_washer') + 1*TrCF_ij_(1,_'use_of_cooking_range') + 1*TrCF_ij_(1,_'use_of_dishwasher') + 1*TrCF_ij_(1,_'use_of_self_clean_feature_of_electric_oven') + 1*TrCF_ij_(1,_'wash_up') + 0"
      ]
     },
     "execution_count": 39,
     "metadata": {},
     "output_type": "execute_result"
    }
   ],
   "source": [
    "obj_fn = lp.lpSum([TrCF_ij[(indv, activity)] for indv in indv_num for activity in actv_names ])\n",
    "\n",
    "obj_fn"
   ]
  },
  {
   "cell_type": "markdown",
   "metadata": {},
   "source": [
    "## Constraints"
   ]
  },
  {
   "cell_type": "code",
   "execution_count": 40,
   "metadata": {},
   "outputs": [],
   "source": [
    "consup_conds = []\n",
    "\n",
    "for indv in indv_num:\n",
    "    for activity in actv_names:\n",
    "            consumption: np.ndarray = indv1_df.loc[indv1_df['Activity'] == activity, 'Consumption'].values\n",
    "            condition = C_ij[(indv, activity)] <= head(consumption)\n",
    "            \n",
    "            consup_conds.append(condition)\n",
    "#consup_conds"
   ]
  },
  {
   "cell_type": "code",
   "execution_count": 41,
   "metadata": {},
   "outputs": [],
   "source": [
    "source_cf_conds = []\n",
    "\n",
    "for indv in indv_num:\n",
    "    for activity in actv_names:\n",
    "        for source in sources:\n",
    "            source_cf: np.ndarray = indv1_df.loc[indv1_df['Activity'] == activity, source].values\n",
    "            condition =  CF_ij[(to_str(indv, activity), source)] <= head(source_cf)\n",
    "            \n",
    "            source_cf_conds.append(condition)\n",
    "            \n",
    "#source_cf_conds"
   ]
  },
  {
   "cell_type": "code",
   "execution_count": 42,
   "metadata": {},
   "outputs": [],
   "source": [
    "activity_cf_conds = []\n",
    "\n",
    "for indv in indv_num:\n",
    "    for activity in actv_names:\n",
    "        activity_sum_cf: np.ndarray = indv1_df.loc[indv1_df['Activity'] == activity, 'TCF'].values\n",
    "        activity_source_cf = []\n",
    "        \n",
    "        for source in sources:\n",
    "            activity_source_cf.append(CF_ij[(to_str(indv, activity), source)])\n",
    "            \n",
    "        activity_cf_conds.append(lp.lpSum(activity_source_cf) <= activity_sum_cf)"
   ]
  },
  {
   "cell_type": "code",
   "execution_count": 43,
   "metadata": {},
   "outputs": [
    {
     "data": {
      "text/plain": [
       "[-0.000436*C_ij_(1,_'Household_heating_=__70F') + 1*TrCF_ij_(1,_'Household_heating_=__70F') + 0.0 = 0,\n",
       " -0.000872*C_ij_(1,_'Household_heating_<_70F') + 1*TrCF_ij_(1,_'Household_heating_<_70F') + 0.0 = 0,\n",
       " 1*TrCF_ij_(1,_'Use_of_heat_pump') + 0 = 0,\n",
       " 1*TrCF_ij_(1,_'Use_of_air_conditioner') + 0 = 0,\n",
       " 1*TrCF_ij_(1,_'shower___short') + 0 = 0,\n",
       " 1*TrCF_ij_(1,_'shower___long_(__3_min)') + 0 = 0,\n",
       " 1*TrCF_ij_(1,_'bath') + 0 = 0,\n",
       " -4.2e-05*C_ij_(1,_'wash_up') + 1*TrCF_ij_(1,_'wash_up') + 0.0 = 0,\n",
       " 1*TrCF_ij_(1,_'use_of_dishwasher') + 0 = 0,\n",
       " 1*TrCF_ij_(1,_'use_of_clothes_washer') + 0 = 0,\n",
       " 1*TrCF_ij_(1,_'use_of_clothes_dryer') + 0 = 0,\n",
       " 1*TrCF_ij_(1,_'use_of_cooking_range') + 0 = 0,\n",
       " 1*TrCF_ij_(1,_'use_of__oven') + 0 = 0,\n",
       " 1*TrCF_ij_(1,_'use_of_self_clean_feature_of_electric_oven') + 0 = 0,\n",
       " 1*TrCF_ij_(1,_'Small_kitchen_appliance_in_the_home') + 0 = 0,\n",
       " 1*TrCF_ij_(1,_'TV_computer_use') + 0 = 0,\n",
       " 1*TrCF_ij_(1,_'air_travel___large_plane') + 0 = 0,\n",
       " 1*TrCF_ij_(1,_'air_travel___small__plane_(<50_seats)') + 0 = 0,\n",
       " -0.000551*C_ij_(1,_'car_trips__self_only') + 1*TrCF_ij_(1,_'car_trips__self_only') + 0.0 = 0,\n",
       " -0.000554*C_ij_(1,_'car_trips___driver_and_self') + 1*TrCF_ij_(1,_'car_trips___driver_and_self') + 0.0 = 0,\n",
       " -0.000354*C_ij_(1,_'car_trips___2__people_with_multiple_end_points') + 1*TrCF_ij_(1,_'car_trips___2__people_with_multiple_end_points') + 0.0 = 0,\n",
       " 1*TrCF_ij_(1,_'trips_using_public_ground_transportation') + 0 = 0,\n",
       " 1*TrCF_ij_(1,_'bags_of_garbage_disposed') + 0 = 0,\n",
       " 1*TrCF_ij_(1,_'bags_of_recycling_deposited_(negative_CF)') + 0 = 0,\n",
       " 1*TrCF_ij_(1,_'bags_of_compost_deposited_(negative_CF)') + 0 = 0,\n",
       " 1*TrCF_ij_(1,_'hazardous_or_electric_items_disposed') + 0 = 0,\n",
       " 1*TrCF_ij_(1,_'large_items_disposed') + 0 = 0]"
      ]
     },
     "execution_count": 43,
     "metadata": {},
     "output_type": "execute_result"
    }
   ],
   "source": [
    "tr_cf_conds = []\n",
    "\n",
    "for indv in indv_num:\n",
    "    for activity in actv_names:\n",
    "        activity_source_cf = []\n",
    "        activity_sum_cf: np.ndarray = indv1_df.loc[indv1_df['Activity'] == activity, 'TCF'].values\n",
    "        for source in sources:\n",
    "            activity_source_cf.append(CF_ij[(to_str(indv, activity), source)])\n",
    "            \n",
    "        tr_cf_conds.append(TrCF_ij[(indv, activity)] == activity_sum_cf * C_ij[(indv, activity)])\n",
    "\n",
    "tr_cf_conds"
   ]
  },
  {
   "cell_type": "code",
   "execution_count": 44,
   "metadata": {},
   "outputs": [],
   "source": [
    "tr_ql_conds = []\n",
    "\n",
    "for indv in indv_num:\n",
    "    indv_tr_ql = []\n",
    "    for activity in actv_names:\n",
    "        QL: np.ndarray = indv1_df.loc[indv1_df['Activity'] == activity, 'Quality_of_Life_Importance__1_10'].values\n",
    "        indv_tr_ql.append(C_ij[(indv, activity)] * head(QL))\n",
    "        \n",
    "    tr_ql_conds.append(TrQL_ij[(indv, activity)] == lp.lpSum(indv_tr_ql))\n",
    "    \n",
    "#tr_ql_conds"
   ]
  },
  {
   "cell_type": "code",
   "execution_count": 45,
   "metadata": {},
   "outputs": [],
   "source": [
    "indv_tql_conds = []\n",
    "\n",
    "for indv in indv_num:\n",
    "    for activity in actv_names:\n",
    "            indv_tql: np.ndarray = indv1_tql.loc[indv1_tql['Indnum'] == 1, 'TQL'].values\n",
    "            indv_tql_conds.append(TrQL_ij[(indv, activity)] >= indv_tql)\n",
    "#indv_tql_conds"
   ]
  },
  {
   "cell_type": "code",
   "execution_count": 46,
   "metadata": {},
   "outputs": [],
   "source": [
    "gp_model = add_obj_fn(gp_model, obj_fn)\n",
    "\n",
    "gp_model = add_constraint(gp_model, consup_conds)\n",
    "\n",
    "gp_model = add_constraint(gp_model, source_cf_conds)\n",
    "\n",
    "gp_model = add_constraint(gp_model, activity_cf_conds)\n",
    "\n",
    "gp_model = add_constraint(gp_model, tr_cf_conds)\n",
    "\n",
    "gp_model = add_constraint(gp_model, tr_ql_conds)\n",
    "\n",
    "gp_model = add_constraint(gp_model, indv_tql_conds)"
   ]
  },
  {
   "cell_type": "code",
   "execution_count": 47,
   "metadata": {},
   "outputs": [
    {
     "data": {
      "text/plain": [
       "1"
      ]
     },
     "execution_count": 47,
     "metadata": {},
     "output_type": "execute_result"
    }
   ],
   "source": [
    "gp_model.solve()"
   ]
  },
  {
   "cell_type": "code",
   "execution_count": 48,
   "metadata": {},
   "outputs": [
    {
     "data": {
      "text/plain": [
       "'Optimal'"
      ]
     },
     "execution_count": 48,
     "metadata": {},
     "output_type": "execute_result"
    }
   ],
   "source": [
    "lp.LpStatus[gp_model.status]"
   ]
  },
  {
   "cell_type": "code",
   "execution_count": 49,
   "metadata": {},
   "outputs": [
    {
     "data": {
      "text/plain": [
       "0.0"
      ]
     },
     "execution_count": 49,
     "metadata": {},
     "output_type": "execute_result"
    }
   ],
   "source": [
    "lp.value(gp_model.objective)"
   ]
  },
  {
   "cell_type": "code",
   "execution_count": 50,
   "metadata": {},
   "outputs": [
    {
     "name": "stdout",
     "output_type": "stream",
     "text": [
      "0.0\n",
      "0.0\n",
      "0.0\n",
      "0.0\n",
      "0.0\n",
      "0.0\n",
      "0.0\n",
      "0.0\n",
      "0.0\n",
      "0.0\n",
      "0.0\n",
      "0.0\n",
      "0.0\n",
      "0.0\n",
      "0.0\n",
      "0.0\n",
      "0.0\n",
      "0.0\n",
      "0.0\n",
      "0.0\n",
      "0.0\n",
      "0.0\n",
      "0.0\n",
      "0.0\n",
      "0.0\n",
      "0.0\n",
      "0.0\n",
      "0.0\n",
      "0.0\n",
      "0.0\n",
      "0.0\n",
      "0.0\n",
      "0.0\n",
      "0.0\n",
      "0.0\n",
      "0.0\n",
      "0.0\n",
      "0.0\n",
      "0.0\n",
      "0.0\n",
      "0.0\n",
      "0.0\n",
      "0.0\n",
      "0.0\n",
      "0.0\n",
      "0.0\n",
      "0.0\n",
      "0.0\n",
      "0.0\n",
      "0.0\n",
      "0.0\n",
      "0.0\n",
      "0.0\n",
      "0.0\n",
      "0.0\n",
      "0.0\n",
      "0.0\n",
      "0.0\n",
      "0.0\n",
      "0.0\n",
      "0.0\n",
      "0.0\n",
      "0.0\n",
      "0.0\n",
      "0.0\n",
      "0.0\n",
      "0.0\n",
      "0.0\n",
      "0.0\n",
      "0.0\n",
      "0.0\n",
      "0.0\n",
      "0.0\n",
      "0.0\n",
      "0.0\n",
      "0.0\n",
      "0.0\n",
      "0.0\n",
      "0.0\n",
      "0.0\n",
      "0.0\n",
      "0.0\n",
      "0.0\n",
      "0.0\n",
      "0.0\n",
      "0.0\n",
      "0.0\n",
      "0.0\n",
      "0.0\n",
      "0.0\n",
      "0.0\n",
      "0.0\n",
      "0.0\n",
      "0.0\n",
      "0.0\n",
      "0.0\n",
      "0.0\n",
      "0.0\n",
      "0.0\n",
      "0.0\n",
      "0.0\n",
      "0.0\n",
      "0.0\n",
      "0.0\n",
      "0.0\n",
      "0.0\n",
      "0.0\n",
      "0.0\n",
      "0.0\n",
      "0.0\n",
      "0.0\n",
      "0.0\n",
      "0.0\n",
      "0.0\n",
      "0.0\n",
      "0.0\n",
      "0.0\n",
      "0.0\n",
      "0.0\n",
      "0.0\n",
      "0.0\n",
      "0.0\n",
      "0.0\n",
      "0.0\n",
      "0.0\n",
      "0.0\n",
      "0.0\n",
      "0.0\n",
      "0.0\n",
      "0.0\n",
      "0.0\n",
      "0.0\n",
      "0.0\n",
      "0.0\n",
      "0.0\n",
      "0.0\n",
      "0.0\n",
      "0.0\n",
      "0.0\n",
      "0.0\n",
      "0.0\n",
      "0.0\n",
      "0.0\n",
      "0.0\n",
      "0.0\n",
      "0.0\n",
      "0.0\n",
      "0.0\n",
      "0.0\n",
      "0.0\n",
      "0.0\n",
      "0.0\n",
      "0.0\n",
      "0.0\n",
      "0.0\n",
      "0.0\n",
      "0.0\n",
      "0.0\n",
      "0.0\n",
      "0.0\n",
      "0.0\n",
      "0.0\n",
      "0.0\n",
      "0.0\n",
      "0.0\n",
      "0.0\n",
      "0.0\n",
      "0.0\n",
      "0.0\n",
      "0.0\n",
      "0.0\n",
      "0.0\n",
      "0.0\n",
      "0.0\n",
      "0.0\n",
      "0.0\n",
      "0.0\n",
      "0.0\n",
      "0.0\n",
      "0.0\n",
      "0.0\n",
      "0.0\n",
      "0.0\n",
      "0.0\n",
      "0.0\n",
      "0.0\n",
      "0.0\n",
      "0.0\n",
      "0.0\n",
      "0.0\n",
      "0.0\n",
      "0.0\n",
      "0.0\n",
      "0.0\n",
      "0.0\n",
      "0.0\n",
      "0.0\n",
      "0.0\n",
      "0.0\n",
      "0.0\n",
      "0.0\n",
      "0.0\n",
      "0.0\n",
      "0.0\n",
      "0.0\n",
      "0.0\n",
      "0.0\n",
      "0.0\n",
      "0.0\n",
      "0.0\n",
      "0.0\n",
      "0.0\n",
      "0.0\n",
      "0.0\n",
      "0.0\n",
      "0.0\n",
      "0.0\n",
      "0.0\n",
      "0.0\n",
      "0.0\n",
      "0.0\n",
      "0.0\n",
      "0.0\n",
      "0.0\n",
      "0.0\n",
      "0.0\n",
      "0.0\n",
      "0.0\n",
      "0.0\n",
      "0.0\n",
      "0.0\n",
      "0.0\n",
      "0.0\n",
      "0.0\n",
      "0.0\n",
      "0.0\n",
      "0.0\n",
      "0.0\n",
      "0.0\n",
      "0.0\n",
      "0.0\n",
      "0.0\n",
      "0.0\n",
      "0.0\n",
      "0.0\n",
      "0.0\n",
      "0.0\n",
      "0.0\n",
      "0.0\n",
      "0.0\n",
      "0.0\n",
      "0.0\n",
      "0.0\n",
      "0.0\n",
      "0.0\n",
      "0.0\n",
      "0.0\n",
      "0.0\n",
      "0.0\n",
      "0.0\n",
      "0.0\n",
      "0.0\n",
      "0.0\n",
      "0.0\n",
      "0.0\n",
      "0.0\n",
      "0.0\n",
      "0.0\n",
      "0.0\n",
      "0.0\n"
     ]
    }
   ],
   "source": [
    "for indv in indv_num:\n",
    "    for activity in actv_names:\n",
    "        for source in sources:\n",
    "            print(lp.value(CF_ij[(to_str(indv, activity), source)]))\n",
    "            \n",
    "            "
   ]
  }
 ],
 "metadata": {
  "kernelspec": {
   "display_name": "Python 3",
   "language": "python",
   "name": "python3"
  },
  "language_info": {
   "codemirror_mode": {
    "name": "ipython",
    "version": 3
   },
   "file_extension": ".py",
   "mimetype": "text/x-python",
   "name": "python",
   "nbconvert_exporter": "python",
   "pygments_lexer": "ipython3",
   "version": "3.7.1"
  }
 },
 "nbformat": 4,
 "nbformat_minor": 2
}
